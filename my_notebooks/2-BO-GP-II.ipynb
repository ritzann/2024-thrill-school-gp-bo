{
 "cells": [
  {
   "cell_type": "markdown",
   "id": "555bbf59-a882-46a0-aabc-9a46d9f1436c",
   "metadata": {},
   "source": [
    "# An Introduction to Bayesian Optimization II: Utility Functions and Gaussian Process Kernels\n",
    "\n",
    "_Prepared by Ritz Aguilar for Thrill Summer School at Toulon, France, October 2024_"
   ]
  },
  {
   "cell_type": "markdown",
   "id": "58480533-4a9f-4b22-928a-2f254b5ebac3",
   "metadata": {},
   "source": [
    "#### Objectives\n",
    "- Differentiate the effects of using different utility/acquistion functions for BO.\n",
    "- Use varying kernels for the Gaussian Process, e.g. Constant, Matern, RBF, etc.\n",
    "- "
   ]
  },
  {
   "cell_type": "markdown",
   "id": "8fc929ec-0acc-46e3-ab8e-a35873711eea",
   "metadata": {},
   "source": [
    "**Utility functions**, a.k.a. acquisition functions, guide the selection of the next point to evaluate in a black-box optimization problem. They balance two completing goals:\n",
    "- _Exploration_: Searches unknown regions of the input space where the objective function has high uncertainty\n",
    "- _Exploitation_: Focuses on regions where the model predicts high values based on the knowledge it has gathered so far.\n",
    "    \n",
    "\n",
    "*__Recall__*: In Bayesian Optimization (BO), a surrogate model (often a Gaussian Process) is fitted to the known data points -- evaluations of the objective function. This model provides both:\n",
    "- A _mean prediction_, which is the model's estimate of the objective function at any given point.\n",
    "- A _variance_ or _uncertainty estimate_, representing the confidence the model has in its prediction.\n",
    "\n",
    "The acquisition (or utility) function uses these predictions to decide the next point to evaluate by assigning a score (utility value) to each possible point. The point with the highest score is selected as the next one to query."
   ]
  },
  {
   "cell_type": "markdown",
   "id": "d33a713d-2a07-4d7b-8e36-8156083fca83",
   "metadata": {
    "tags": []
   },
   "source": [
    "#### Examples of Commonly-used Utility Functions:\n",
    "\n",
    "1. **Expected Improvement (EI)**: Measures the expected amount of improvement over the best-observed value so far, balancing both uncertainty and the predicted value. Points with high potential for improvement are favored. The function is given by: $$-\\text{EI}(x) = -\\mathbb{E} [f(x) - f(\\hat{x})].$$ _Note: A full implementation of this is found in Notebook Part I._\n",
    "\n",
    "2. **Upper Confidence Bound (UCB)**: Incorporates both the mean and uncertainty by using a confidence bound to prioritize points with either high predicted values or high uncertainty. It is given by: $$\\text{UCB}(x) = \\mu_{GP}(x) + \\kappa \\sigma_{GP}(x).$$\n",
    "\n",
    "3. **Probability of Improvement (PI)**: Measures the probability that a given point will improve over the current best value. It is given by: $$-\\text{PI}(x) = -P(f(x) \\geq f(\\hat{x}) + \\kappa).$$"
   ]
  },
  {
   "cell_type": "code",
   "execution_count": null,
   "id": "d3858caa-7e3e-4452-910b-7de17499b9c7",
   "metadata": {},
   "outputs": [],
   "source": []
  },
  {
   "cell_type": "markdown",
   "id": "b386dff5-38ce-49b7-ad56-d88ae81a5921",
   "metadata": {},
   "source": [
    "#### Key Concept\n",
    "\n",
    "The acquisition function is what transforms the BO process from a passive fitting of the objective function to an active search strategy. It enables efficient exploration of the search space while avoiding unnecessary evaluations, especially in expensive-to-evaluate problems."
   ]
  },
  {
   "cell_type": "code",
   "execution_count": null,
   "id": "3f28442b-d7d1-4c7c-b0ee-dec193679013",
   "metadata": {},
   "outputs": [],
   "source": []
  },
  {
   "cell_type": "markdown",
   "id": "264f4993-40a5-451c-aa9a-4bb366c24330",
   "metadata": {},
   "source": [
    "#### Summary\n",
    "\n",
    "The acquisition function in BO is the mathematical function that helps decide where to sample next by assigning a score to each candidate point, balancing the tradeoff between exploration (uncertain areas) and exploitation (promising areas)."
   ]
  },
  {
   "cell_type": "code",
   "execution_count": null,
   "id": "759f52f2-d1ee-42fc-a720-5a980047897e",
   "metadata": {},
   "outputs": [],
   "source": []
  }
 ],
 "metadata": {
  "kernelspec": {
   "display_name": "thrill24",
   "language": "python",
   "name": "thrill24"
  },
  "language_info": {
   "codemirror_mode": {
    "name": "ipython",
    "version": 3
   },
   "file_extension": ".py",
   "mimetype": "text/x-python",
   "name": "python",
   "nbconvert_exporter": "python",
   "pygments_lexer": "ipython3",
   "version": "3.10.4"
  }
 },
 "nbformat": 4,
 "nbformat_minor": 5
}
